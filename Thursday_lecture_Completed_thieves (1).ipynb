{
 "cells": [
  {
   "cell_type": "markdown",
   "metadata": {},
   "source": [
    "# Object-Oriented-Programming (OOP)"
   ]
  },
  {
   "cell_type": "markdown",
   "metadata": {},
   "source": [
    "## Tasks Today:\n",
    "\n",
    "   \n",
    "\n",
    "1) <b>Creating a Class (Initializing/Declaring)</b> <br>\n",
    "2) <b>Using a Class (Instantiating)</b> <br>\n",
    " &nbsp;&nbsp;&nbsp;&nbsp; a) Creating One Instance <br>\n",
    " &nbsp;&nbsp;&nbsp;&nbsp; b) Creating Multiple Instances <br>\n",
    " &nbsp;&nbsp;&nbsp;&nbsp; c) In-Class Exercise #1 - Create a Class 'Car' and instantiate three different makes of cars <br>\n",
    "3) <b>The \\__init\\__() Method</b> <br>\n",
    " &nbsp;&nbsp;&nbsp;&nbsp; a) The 'self' Attribute <br>\n",
    "4) <b>Class Attributes</b> <br>\n",
    " &nbsp;&nbsp;&nbsp;&nbsp; a) Initializing Attributes <br>\n",
    " &nbsp;&nbsp;&nbsp;&nbsp; b) Setting an Attribute Outside of the \\__init\\__() Method <br>\n",
    " &nbsp;&nbsp;&nbsp;&nbsp; c) Setting Defaults for Attributes <br>\n",
    " &nbsp;&nbsp;&nbsp;&nbsp; d) Accessing Class Attributes <br>\n",
    " &nbsp;&nbsp;&nbsp;&nbsp; e) Changing Class Attributes <br>\n",
    " &nbsp;&nbsp;&nbsp;&nbsp; f) In-Class Exercise #2 - Add a color and wheels attribute to your 'Car' class <br>\n",
    "5) <b>Class Methods</b> <br>\n",
    " &nbsp;&nbsp;&nbsp;&nbsp; a) Creating <br>\n",
    " &nbsp;&nbsp;&nbsp;&nbsp; b) Calling <br>\n",
    " &nbsp;&nbsp;&nbsp;&nbsp; c) Modifying an Attribute's Value Through a Method <br>\n",
    " &nbsp;&nbsp;&nbsp;&nbsp; d) Incrementing an Attribute's Value Through a Method <br>\n",
    " &nbsp;&nbsp;&nbsp;&nbsp; e) In-Class Exercise #3 - Add a method that prints the cars color and wheel number, then call them <br>\n",
    "6) <b>Inheritance</b> <br>\n",
    " &nbsp;&nbsp;&nbsp;&nbsp; a) Syntax for Inheriting from a Parent Class <br>\n",
    " &nbsp;&nbsp;&nbsp;&nbsp; b) The \\__init\\__() Method for a Child Class (super()) <br>\n",
    " &nbsp;&nbsp;&nbsp;&nbsp; c) Defining Attributes and Methods for the Child Class <br>\n",
    " &nbsp;&nbsp;&nbsp;&nbsp; d) Method Overriding <br>\n",
    " &nbsp;&nbsp;&nbsp;&nbsp; e) In-Class Exercise #4 - Create a class 'Ford' that inherits from 'Car' class and initialize it as a Blue Ford Explorer with 4 wheels using the super() method <br>\n",
    "7) <b>Classes as Attributes</b> <br>\n",
    "8) <b>Exercises</b> <br>\n",
    " &nbsp;&nbsp;&nbsp;&nbsp; a) Exercise #1 - Turn the shopping cart program from yesterday into an object-oriented program <br>"
   ]
  },
  {
   "cell_type": "markdown",
   "metadata": {},
   "source": [
    "## Creating a Class (Initializing/Declaring)\n",
    "<p>When creating a class, function, or even a variable you are initializing that object. Initializing and Declaring occur at the same time in Python, whereas in lower level languages you have to declare an object before initializing it. This is the first step in the process of using a class.</p>"
   ]
  },
  {
   "cell_type": "code",
   "execution_count": 9,
   "metadata": {},
   "outputs": [],
   "source": [
    "class Car():\n",
    "    wheels = 4\n",
    "    color = 'blue'"
   ]
  },
  {
   "cell_type": "markdown",
   "metadata": {},
   "source": [
    "## Using a Class (Instantiating)\n",
    "<p>The process of creating a class is called <i>Instantiating</i>. Each time you create a variable of that type of class, it is referred to as an <i>Instance</i> of that class. This is the second step in the process of using a class.</p>"
   ]
  },
  {
   "cell_type": "markdown",
   "metadata": {},
   "source": [
    "##### Creating One Instance"
   ]
  },
  {
   "cell_type": "code",
   "execution_count": 16,
   "metadata": {},
   "outputs": [
    {
     "name": "stdout",
     "output_type": "stream",
     "text": [
      "blue\n"
     ]
    }
   ],
   "source": [
    "ford = Car()\n",
    "\n",
    "print(ford.color)"
   ]
  },
  {
   "cell_type": "markdown",
   "metadata": {},
   "source": [
    "##### Creating Multiple Instances"
   ]
  },
  {
   "cell_type": "code",
   "execution_count": 19,
   "metadata": {},
   "outputs": [
    {
     "name": "stdout",
     "output_type": "stream",
     "text": [
      "blue\n"
     ]
    },
    {
     "ename": "AttributeError",
     "evalue": "'Car' object has no attribute 'engine'",
     "output_type": "error",
     "traceback": [
      "\u001b[0;31m---------------------------------------------------------------------------\u001b[0m",
      "\u001b[0;31mAttributeError\u001b[0m                            Traceback (most recent call last)",
      "\u001b[1;32m/Users/christian/Documents/Thieves-98/Python Basics/Thursday_Lesson_Inclass.ipynb Cell 9\u001b[0m in \u001b[0;36m<cell line: 6>\u001b[0;34m()\u001b[0m\n\u001b[1;32m      <a href='vscode-notebook-cell:/Users/christian/Documents/Thieves-98/Python%20Basics/Thursday_Lesson_Inclass.ipynb#X11sZmlsZQ%3D%3D?line=2'>3</a>\u001b[0m lambo \u001b[39m=\u001b[39m Car()\n\u001b[1;32m      <a href='vscode-notebook-cell:/Users/christian/Documents/Thieves-98/Python%20Basics/Thursday_Lesson_Inclass.ipynb#X11sZmlsZQ%3D%3D?line=4'>5</a>\u001b[0m \u001b[39mprint\u001b[39m(nissan\u001b[39m.\u001b[39mcolor)\n\u001b[0;32m----> <a href='vscode-notebook-cell:/Users/christian/Documents/Thieves-98/Python%20Basics/Thursday_Lesson_Inclass.ipynb#X11sZmlsZQ%3D%3D?line=5'>6</a>\u001b[0m \u001b[39mprint\u001b[39m(chevy\u001b[39m.\u001b[39;49mengine)\n",
      "\u001b[0;31mAttributeError\u001b[0m: 'Car' object has no attribute 'engine'"
     ]
    }
   ],
   "source": [
    "nissan = Car()\n",
    "chevy = Car()\n",
    "lambo = Car()\n",
    "\n",
    "print(nissan.color)\n",
    "print(chevy.engine)"
   ]
  },
  {
   "cell_type": "markdown",
   "metadata": {},
   "source": [
    "##### In-Class Exercise #1 - Create a Class 'Car' and Instantiate three different makes of cars"
   ]
  },
  {
   "cell_type": "code",
   "execution_count": null,
   "metadata": {},
   "outputs": [],
   "source": []
  },
  {
   "cell_type": "markdown",
   "metadata": {},
   "source": [
    "## The \\__init\\__() Method <br>\n",
    "<p>This method is used in almost every created class, and called only once upon the creation of the class instance. This method will initialize all variables needed for the object.</p>"
   ]
  },
  {
   "cell_type": "code",
   "execution_count": 28,
   "metadata": {},
   "outputs": [
    {
     "data": {
      "text/plain": [
       "4"
      ]
     },
     "execution_count": 28,
     "metadata": {},
     "output_type": "execute_result"
    }
   ],
   "source": [
    "class Car():\n",
    "    wheels = 4 # class-attribute\n",
    "    def __init__(self, make, model, color, engine): #instance-attributes\n",
    "        self.make = make\n",
    "        self.model = model\n",
    "        self.color = color\n",
    "        self.engine = engine\n",
    "\n",
    "nissan = Car('nissan', '370z', 'black', 'V6')\n",
    "chevy = Car('chevy', 'camero', 'yellow', 'V8')\n"
   ]
  },
  {
   "cell_type": "code",
   "execution_count": 53,
   "metadata": {},
   "outputs": [
    {
     "name": "stdout",
     "output_type": "stream",
     "text": [
      "The Seahawks are from Seattle\n",
      "The Giants are from New York\n"
     ]
    }
   ],
   "source": [
    "class NflTeams():\n",
    "    country = 'america'\n",
    "    def __init__(self, city, name):\n",
    "        self.city = city\n",
    "        self.name = name\n",
    "\n",
    "    def printInfo(self):\n",
    "        print(f'The {self.name} are from {self.city}')\n",
    "    \n",
    "team1 = NflTeams('Seattle', 'Seahawks')\n",
    "team2 = NflTeams('New York', 'Giants')\n",
    "\n",
    "team1.printInfo()\n",
    "team2.printInfo()\n"
   ]
  },
  {
   "cell_type": "markdown",
   "metadata": {},
   "source": [
    "##### The 'self' Attribute <br>\n",
    "<p>This attribute is required to keep track of specific instance's attributes. Without the self attribute, the program would not know how to reference or keep track of an instance's attributes.</p>"
   ]
  },
  {
   "cell_type": "code",
   "execution_count": null,
   "metadata": {},
   "outputs": [],
   "source": [
    "# see above"
   ]
  },
  {
   "cell_type": "markdown",
   "metadata": {},
   "source": [
    "## Class Attributes <br>\n",
    "<p>While variables are inside of a class, they are referred to as attributes and not variables. When someone says 'attribute' you know they're speaking about a class. Attributes can be initialized through the init method, or outside of it.</p>"
   ]
  },
  {
   "cell_type": "markdown",
   "metadata": {},
   "source": [
    "##### Initializing Attributes"
   ]
  },
  {
   "cell_type": "code",
   "execution_count": null,
   "metadata": {},
   "outputs": [],
   "source": [
    "# see above"
   ]
  },
  {
   "cell_type": "markdown",
   "metadata": {},
   "source": [
    "##### Accessing Class Attributes"
   ]
  },
  {
   "cell_type": "code",
   "execution_count": null,
   "metadata": {
    "scrolled": true
   },
   "outputs": [],
   "source": [
    "# See Above"
   ]
  },
  {
   "cell_type": "markdown",
   "metadata": {},
   "source": [
    "##### Setting Defaults for Attributes"
   ]
  },
  {
   "cell_type": "code",
   "execution_count": 52,
   "metadata": {},
   "outputs": [
    {
     "data": {
      "text/plain": [
       "{'city': 'Austin', 'name': 'Steelers', 'year': 2022, 'country': 'america'}"
      ]
     },
     "execution_count": 52,
     "metadata": {},
     "output_type": "execute_result"
    }
   ],
   "source": [
    "class NflTeams():\n",
    "    # This works, but is not the best way\n",
    "    # country = 'america'\n",
    "    def __init__(self, city, name, year=2022, country='america'):\n",
    "        self.city = city\n",
    "        self.name = name\n",
    "        self.year = year\n",
    "        self.country = country\n",
    "\n",
    "    def printInfo(self):\n",
    "        print(f'The {self.name} are from {self.city}')\n",
    "\n",
    "steelers = NflTeams('Pittsburgh', 'Steelers')\n",
    "steelers.city\n",
    "steelers.year\n",
    "steelers.__dict__\n",
    "\n",
    "# Changing a Instance Attribute\n",
    "steelers.city = 'Austin'\n",
    "steelers.__dict__\n",
    "\n",
    "# class Car():\n",
    "#     def __init__(self):\n",
    "#         pass\n"
   ]
  },
  {
   "cell_type": "markdown",
   "metadata": {},
   "source": [
    "##### Changing Instance Attributes <br>\n",
    "<p>Keep in mind there are global class attributes and then there are attributes only available to each class instance which won't effect other classes.</p>"
   ]
  },
  {
   "cell_type": "code",
   "execution_count": null,
   "metadata": {},
   "outputs": [],
   "source": [
    "# See above"
   ]
  },
  {
   "cell_type": "markdown",
   "metadata": {},
   "source": [
    "##### In-Class Exercise #2 - Add a doors and seats attribute to your 'Car' class then print out two different instances with different doors and seats"
   ]
  },
  {
   "cell_type": "code",
   "execution_count": null,
   "metadata": {},
   "outputs": [],
   "source": []
  },
  {
   "cell_type": "markdown",
   "metadata": {},
   "source": [
    "## Class Methods <br>\n",
    "<p>While inside of a class, functions are referred to as 'methods'. If you hear someone mention methods, they're speaking about classes. Methods are essentially functions, but only callable on the instances of a class.</p>"
   ]
  },
  {
   "cell_type": "markdown",
   "metadata": {},
   "source": [
    "##### Creating"
   ]
  },
  {
   "cell_type": "code",
   "execution_count": 78,
   "metadata": {},
   "outputs": [
    {
     "name": "stdout",
     "output_type": "stream",
     "text": [
      "lebron james has been added to the LA Lakers!\n",
      "Your current roster is {'lebron james': 6}\n",
      "kobe bryant has been added to the LA Lakers!\n",
      "Your current roster is {'lebron james': 6, 'kobe bryant': 24}\n",
      "kyrie irving has been added to the LA Lakers!\n",
      "Your current roster is {'lebron james': 6, 'kobe bryant': 24, 'kyrie irving': 2}\n",
      "You currently have 3 on your team! \n",
      "---------- Current Roster for the LA Lakers! -----------------\n",
      "lebron james 6\n",
      "kobe bryant 24\n",
      "kyrie irving 2\n",
      "You currently have 3 on your team! \n",
      "---------- Current Roster for the LA Lakers! -----------------\n",
      "lebron james 6\n",
      "kobe bryant 24\n",
      "kyrie irving 2\n",
      "Good luck this season!\n",
      "{'city': 'Oakland', 'name': 'Lakers', 'country': 'United States', 'depth_chart': {'lebron james': 6, 'kobe bryant': 24, 'kyrie irving': 2}, 'number_of_players': 3}\n"
     ]
    }
   ],
   "source": [
    "class Roster():\n",
    "    def __init__(self, city, name, country='United States'):\n",
    "        self.city = city\n",
    "        self.name = name\n",
    "        self.country = country\n",
    "        self.depth_chart = {}\n",
    "        self.number_of_players = 0\n",
    "    \n",
    "    def addPlayer(self):\n",
    "        name = input('What is the players name that you would like to add? ')\n",
    "        number = int(input(f'What jersey number will {name} have? '))\n",
    "        self.depth_chart[name] = number\n",
    "        self.number_of_players += 1\n",
    "        print(f'{name} has been added to the {self.city} {self.name}!')\n",
    "        print(f'Your current roster is {self.depth_chart}')\n",
    "    \n",
    "    def deletePlayer(self):\n",
    "        player = input('What player would you like to delete? ')\n",
    "        print(f'{self.depth_chart[player]} has been removed from the roster!')\n",
    "        del self.depth_chart[player]\n",
    "    \n",
    "    def showPlayers(self):\n",
    "        print(f'You currently have {self.number_of_players} players on your team! ')\n",
    "        print(f'---------- Current Roster for the {self.city} {self.name}! -----------------')\n",
    "        for key,value in self.depth_chart.items():\n",
    "            print(key,value)\n",
    "        \n",
    "\n",
    "\n",
    "roster1 = Roster('LA', 'Lakers')\n",
    "\n",
    "def runner():\n",
    "    while True:\n",
    "        user_choice = input('What would you like to do? (add,delete,show, or quit)? ')\n",
    "        if user_choice == 'quit':\n",
    "            roster1.showPlayers()\n",
    "            print('Good luck this season!')\n",
    "            break  \n",
    "        elif user_choice == 'add':\n",
    "            roster1.addPlayer()\n",
    "        elif user_choice == 'delete':\n",
    "            roster1.deletePlayer()\n",
    "        elif user_choice == 'show':\n",
    "            roster1.showPlayers()\n",
    "        else:\n",
    "            print('Not a valid option, please try again')\n",
    "\n",
    "runner()\n",
    "\n",
    "roster1.city = 'Oakland'\n",
    "print(roster1.__dict__)\n",
    "\n",
    "\n",
    "\n",
    "\n",
    "\n",
    "car = Parking()\n",
    "\n",
    "def runner():\n",
    "    while True:\n",
    "        user_choice = input('What would you like to do? (park, leave, or info )?').lower()\n",
    "        if user_choice == 'leave':\n",
    "            car.leave_garage()\n",
    "            break  \n",
    "        elif user_choice == 'park':\n",
    "            car.take_ticket()\n",
    "            break\n",
    "        elif user_choice == 'info':\n",
    "            car.space_info()\n",
    "            break\n",
    "        else:\n",
    "           print('Not a valid option, please try again')\n",
    "runner()\n"
   ]
  },
  {
   "cell_type": "markdown",
   "metadata": {},
   "source": [
    "##### Calling"
   ]
  },
  {
   "cell_type": "code",
   "execution_count": null,
   "metadata": {},
   "outputs": [],
   "source": [
    "# See Above"
   ]
  },
  {
   "cell_type": "markdown",
   "metadata": {},
   "source": [
    "##### Modifying an Attribute's Value Through a Method"
   ]
  },
  {
   "cell_type": "code",
   "execution_count": null,
   "metadata": {},
   "outputs": [],
   "source": [
    "# see above\n",
    "# modifying the self.depth_chart attribute"
   ]
  },
  {
   "cell_type": "markdown",
   "metadata": {},
   "source": [
    "##### Incrementing an Attribute's Value Through a Method"
   ]
  },
  {
   "cell_type": "code",
   "execution_count": null,
   "metadata": {},
   "outputs": [],
   "source": [
    "# see above\n",
    "# incrementing the self.number_of_players attribute"
   ]
  },
  {
   "cell_type": "markdown",
   "metadata": {},
   "source": [
    "## Inheritance <br>\n",
    "<p>You can create a child-parent relationship between two classes by using inheritance. What this allows you to do is have overriding methods, but also inherit traits from the parent class. Think of it as an actual parent and child, the child will inherit the parent's genes, as will the classes in OOP</p>"
   ]
  },
  {
   "cell_type": "markdown",
   "metadata": {},
   "source": [
    "##### Syntax for Inheriting from a Parent Class"
   ]
  },
  {
   "cell_type": "code",
   "execution_count": null,
   "metadata": {},
   "outputs": [],
   "source": []
  },
  {
   "cell_type": "markdown",
   "metadata": {},
   "source": [
    "##### The \\__init\\__() Method for a Child Class - super()"
   ]
  },
  {
   "cell_type": "code",
   "execution_count": null,
   "metadata": {
    "scrolled": true
   },
   "outputs": [],
   "source": []
  },
  {
   "cell_type": "markdown",
   "metadata": {},
   "source": [
    "##### Defining Attributes and Methods for the Child Class"
   ]
  },
  {
   "cell_type": "code",
   "execution_count": null,
   "metadata": {},
   "outputs": [],
   "source": [
    "# See Above"
   ]
  },
  {
   "cell_type": "markdown",
   "metadata": {},
   "source": [
    "##### Method Overriding"
   ]
  },
  {
   "cell_type": "code",
   "execution_count": null,
   "metadata": {},
   "outputs": [],
   "source": [
    "# See Above"
   ]
  },
  {
   "cell_type": "markdown",
   "metadata": {},
   "source": [
    "## Classes as Attributes <br>\n",
    "<p>Classes can also be used as attributes within another class. This is useful in situations where you need to keep variables locally stored, instead of globally stored.</p>"
   ]
  },
  {
   "cell_type": "code",
   "execution_count": 96,
   "metadata": {},
   "outputs": [
    {
     "name": "stdout",
     "output_type": "stream",
     "text": [
      "...\n",
      "Bark\n",
      "Meow\n"
     ]
    },
    {
     "data": {
      "text/plain": [
       "True"
      ]
     },
     "execution_count": 96,
     "metadata": {},
     "output_type": "execute_result"
    }
   ],
   "source": [
    "class Animal(): # Base Class\n",
    "    def __init__(self, name, species, legs = 4):\n",
    "        self.name = name\n",
    "        self.species = species\n",
    "        self.legs = legs\n",
    "    \n",
    "    def talk(self):\n",
    "        print('...')\n",
    "    \n",
    "class Dog(Animal): # Child Class\n",
    "    def __init__(self, name, species, legs=4, isFast = True):\n",
    "        super().__init__(name, species, legs)\n",
    "        self.isFast = isFast\n",
    "        \n",
    "    def talk(self):\n",
    "        print('Bark')\n",
    "\n",
    "class Cat(Animal): # Child Class\n",
    "    def __init__(self, name, species, legs=4, isFast = False):\n",
    "        Animal.__init__(self, name, species, legs)\n",
    "        self.isFast = isFast\n",
    "        \n",
    "    def talk(self):\n",
    "        print('Meow')\n",
    "\n",
    "animal1 = Animal('Christian', 'Human', 2)\n",
    "dog1 = Dog('Alpha', 'Canine')\n",
    "cat1 = Cat('Garfield', 'Feline', isFast=True)\n",
    "\n",
    "animal1.talk()\n",
    "dog1.talk()\n",
    "cat1.talk()\n",
    "\n",
    "cat1.isFast\n"
   ]
  },
  {
   "cell_type": "markdown",
   "metadata": {},
   "source": [
    "# Exercises"
   ]
  },
  {
   "cell_type": "markdown",
   "metadata": {},
   "source": [
    "### Exercise 1 - Turn the shopping cart program from yesterday into an object-oriented program\n",
    "\n",
    "The comments in the cell below are there as a guide for thinking about the problem. However, if you feel a different way is best for you and your own thought process, please do what feels best for you by all means."
   ]
  },
  {
   "cell_type": "code",
   "execution_count": 12,
   "metadata": {},
   "outputs": [
    {
     "ename": "NameError",
     "evalue": "name 'self' is not defined",
     "output_type": "error",
     "traceback": [
      "\u001b[0;31m---------------------------------------------------------------------------\u001b[0m",
      "\u001b[0;31mNameError\u001b[0m                                 Traceback (most recent call last)",
      "\u001b[1;32m/Users/ianrowejr./Documents/Portfolio/hw 08.22/Thursday_lecture_Completed_thieves (1).ipynb Cell 50\u001b[0m in \u001b[0;36m<cell line: 31>\u001b[0;34m()\u001b[0m\n\u001b[1;32m     <a href='vscode-notebook-cell:/Users/ianrowejr./Documents/Portfolio/hw%2008.22/Thursday_lecture_Completed_thieves%20%281%29.ipynb#ch0000049?line=28'>29</a>\u001b[0m         \u001b[39melse\u001b[39;00m:\n\u001b[1;32m     <a href='vscode-notebook-cell:/Users/ianrowejr./Documents/Portfolio/hw%2008.22/Thursday_lecture_Completed_thieves%20%281%29.ipynb#ch0000049?line=29'>30</a>\u001b[0m             \u001b[39mprint\u001b[39m(\u001b[39m'\u001b[39m\u001b[39mInvalid entry, please enter Add/Show/Remove\u001b[39m\u001b[39m'\u001b[39m)\n\u001b[0;32m---> <a href='vscode-notebook-cell:/Users/ianrowejr./Documents/Portfolio/hw%2008.22/Thursday_lecture_Completed_thieves%20%281%29.ipynb#ch0000049?line=30'>31</a>\u001b[0m runner()\n",
      "\u001b[1;32m/Users/ianrowejr./Documents/Portfolio/hw 08.22/Thursday_lecture_Completed_thieves (1).ipynb Cell 50\u001b[0m in \u001b[0;36mrunner\u001b[0;34m()\u001b[0m\n\u001b[1;32m     <a href='vscode-notebook-cell:/Users/ianrowejr./Documents/Portfolio/hw%2008.22/Thursday_lecture_Completed_thieves%20%281%29.ipynb#ch0000049?line=21'>22</a>\u001b[0m user_choice \u001b[39m=\u001b[39m \u001b[39minput\u001b[39m(\u001b[39m'\u001b[39m\u001b[39mWhat would you like to do? Add/Remove/Show\u001b[39m\u001b[39m'\u001b[39m )\u001b[39m.\u001b[39mtitle()\n\u001b[1;32m     <a href='vscode-notebook-cell:/Users/ianrowejr./Documents/Portfolio/hw%2008.22/Thursday_lecture_Completed_thieves%20%281%29.ipynb#ch0000049?line=22'>23</a>\u001b[0m \u001b[39mif\u001b[39;00m user_choice \u001b[39m==\u001b[39m \u001b[39m'\u001b[39m\u001b[39mAdd\u001b[39m\u001b[39m'\u001b[39m:\n\u001b[0;32m---> <a href='vscode-notebook-cell:/Users/ianrowejr./Documents/Portfolio/hw%2008.22/Thursday_lecture_Completed_thieves%20%281%29.ipynb#ch0000049?line=23'>24</a>\u001b[0m     \u001b[39mself\u001b[39;49m\u001b[39m.\u001b[39madditem()\n\u001b[1;32m     <a href='vscode-notebook-cell:/Users/ianrowejr./Documents/Portfolio/hw%2008.22/Thursday_lecture_Completed_thieves%20%281%29.ipynb#ch0000049?line=24'>25</a>\u001b[0m \u001b[39melif\u001b[39;00m user_choice \u001b[39m==\u001b[39m \u001b[39m'\u001b[39m\u001b[39mRemove\u001b[39m\u001b[39m'\u001b[39m:\n\u001b[1;32m     <a href='vscode-notebook-cell:/Users/ianrowejr./Documents/Portfolio/hw%2008.22/Thursday_lecture_Completed_thieves%20%281%29.ipynb#ch0000049?line=25'>26</a>\u001b[0m     \u001b[39mself\u001b[39m\u001b[39m.\u001b[39mremoveitem()\n",
      "\u001b[0;31mNameError\u001b[0m: name 'self' is not defined"
     ]
    }
   ],
   "source": [
    "# Create a class called cart that retains items and has methods to add, remove, and show\n",
    "\n",
    "class Cart():\n",
    "    def __init__(self,):\n",
    "        self.items = items\n",
    "\n",
    "    def additem(self):\n",
    "        items = input('What would you like to add to your cart?')\n",
    "        print(f'Yo have added {items} to your cart')\n",
    "    \n",
    "    def removeitem(self):\n",
    "        user_choice = input('What would you like to delete from your cart?')\n",
    "        del self.items[user_choice]\n",
    "        print(f'You have deleter {user_choice} from your cart')\n",
    "\n",
    "    def showitem(self):\n",
    "        print(f'Your currently have {self.items} in your cart')\n",
    "\n",
    "\n",
    "def runner():\n",
    "    while True:\n",
    "        user_choice = input('What would you like to do? Add/Remove/Show' ).title()\n",
    "        if user_choice == 'Add':\n",
    "            self.additem()\n",
    "        elif user_choice == 'Remove':\n",
    "            self.removeitem()\n",
    "        elif user_choice == 'Show':\n",
    "            self.showitem()\n",
    "        else:\n",
    "            print('Invalid entry, please enter Add/Show/Remove')\n",
    "runner()"
   ]
  },
  {
   "cell_type": "markdown",
   "metadata": {},
   "source": [
    "### Exercise 2 - Write a Python class which has two methods get_String and print_String. get_String accept a string from the user and print_String print the string in upper case"
   ]
  },
  {
   "cell_type": "code",
   "execution_count": 10,
   "metadata": {},
   "outputs": [
    {
     "name": "stdout",
     "output_type": "stream",
     "text": [
      "Type in a phrase that you want to be capitilized\n",
      "THIS IS GONNA BE UPPER CASE\n"
     ]
    }
   ],
   "source": [
    "class Uppercase():\n",
    "    def __init__(self):\n",
    "        self.str = \"\"\n",
    "\n",
    "    def get_String(self):\n",
    "        self.str = input()\n",
    "\n",
    "    def print_String(self):\n",
    "        print(self.str.upper())\n",
    "\n",
    "print(\"Type in a phrase that you want to be capitilized\")\n",
    "\n",
    "str = Uppercase()\n",
    "str.get_String()\n",
    "str.print_String()"
   ]
  }
 ],
 "metadata": {
  "kernelspec": {
   "display_name": "Python 3.10.6 64-bit",
   "language": "python",
   "name": "python3"
  },
  "language_info": {
   "codemirror_mode": {
    "name": "ipython",
    "version": 3
   },
   "file_extension": ".py",
   "mimetype": "text/x-python",
   "name": "python",
   "nbconvert_exporter": "python",
   "pygments_lexer": "ipython3",
   "version": "3.10.6"
  },
  "vscode": {
   "interpreter": {
    "hash": "aee8b7b246df8f9039afb4144a1f6fd8d2ca17a180786b69acc140d282b71a49"
   }
  }
 },
 "nbformat": 4,
 "nbformat_minor": 2
}
